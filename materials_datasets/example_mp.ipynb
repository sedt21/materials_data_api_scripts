{
 "cells": [
  {
   "cell_type": "markdown",
   "metadata": {},
   "source": [
    "# Exploration of the Materials Project database\n",
    "\n",
    "Load the Materials Project dataset as a `pandas.DataFrame`, which is saved when running the `mp/download.py` script (see `README.md` for directions)"
   ]
  },
  {
   "cell_type": "code",
   "execution_count": 2,
   "metadata": {},
   "outputs": [
    {
     "data": {
      "text/html": [
       "<div>\n",
       "<style scoped>\n",
       "    .dataframe tbody tr th:only-of-type {\n",
       "        vertical-align: middle;\n",
       "    }\n",
       "\n",
       "    .dataframe tbody tr th {\n",
       "        vertical-align: top;\n",
       "    }\n",
       "\n",
       "    .dataframe thead th {\n",
       "        text-align: right;\n",
       "    }\n",
       "</style>\n",
       "<table border=\"1\" class=\"dataframe\">\n",
       "  <thead>\n",
       "    <tr style=\"text-align: right;\">\n",
       "      <th></th>\n",
       "      <th>material_id</th>\n",
       "      <th>anonymous_formula</th>\n",
       "      <th>band_gap</th>\n",
       "      <th>band_structure</th>\n",
       "      <th>bandstructure_uniform</th>\n",
       "      <th>blessed_tasks</th>\n",
       "      <th>bond_valence</th>\n",
       "      <th>chemsys</th>\n",
       "      <th>cif</th>\n",
       "      <th>created_at</th>\n",
       "      <th>...</th>\n",
       "      <th>ordering</th>\n",
       "      <th>is_magnetic</th>\n",
       "      <th>exchange_symmetry</th>\n",
       "      <th>num_unique_magnetic_sites</th>\n",
       "      <th>types_of_magnetic_species</th>\n",
       "      <th>magmoms</th>\n",
       "      <th>total_magnetization_normalized_vol</th>\n",
       "      <th>total_magnetization_normalized_formula_units</th>\n",
       "      <th>num_magnetic_sites</th>\n",
       "      <th>true_total_magnetization</th>\n",
       "    </tr>\n",
       "  </thead>\n",
       "  <tbody>\n",
       "    <tr>\n",
       "      <th>0</th>\n",
       "      <td>mp-862690</td>\n",
       "      <td>{'A': 1.0}</td>\n",
       "      <td>0.0000</td>\n",
       "      <td>None</td>\n",
       "      <td>None</td>\n",
       "      <td>{'GGA NSCF Uniform': 'mp-1004086', 'GGA Static...</td>\n",
       "      <td>None</td>\n",
       "      <td>Ac</td>\n",
       "      <td># generated using pymatgen\\ndata_Ac\\n_symmetry...</td>\n",
       "      <td>2014-08-23 01:06:11</td>\n",
       "      <td>...</td>\n",
       "      <td>NM</td>\n",
       "      <td>False</td>\n",
       "      <td>194</td>\n",
       "      <td>0</td>\n",
       "      <td>[]</td>\n",
       "      <td>[0, 0, 0, 0]</td>\n",
       "      <td>1.611105e-04</td>\n",
       "      <td>0.007333</td>\n",
       "      <td>0</td>\n",
       "      <td>0.029332</td>\n",
       "    </tr>\n",
       "    <tr>\n",
       "      <th>1</th>\n",
       "      <td>mp-1183057</td>\n",
       "      <td>{'A': 1.0}</td>\n",
       "      <td>0.0000</td>\n",
       "      <td>None</td>\n",
       "      <td>None</td>\n",
       "      <td>{'GGA Static': 'mp-1404739'}</td>\n",
       "      <td>None</td>\n",
       "      <td>Ac</td>\n",
       "      <td># generated using pymatgen\\ndata_Ac\\n_symmetry...</td>\n",
       "      <td>2019-01-11 11:43:11.515000</td>\n",
       "      <td>...</td>\n",
       "      <td>NM</td>\n",
       "      <td>False</td>\n",
       "      <td>152</td>\n",
       "      <td>0</td>\n",
       "      <td>[]</td>\n",
       "      <td>[0, 0, 0]</td>\n",
       "      <td>1.676193e-04</td>\n",
       "      <td>0.007600</td>\n",
       "      <td>0</td>\n",
       "      <td>0.022801</td>\n",
       "    </tr>\n",
       "    <tr>\n",
       "      <th>2</th>\n",
       "      <td>mp-1183069</td>\n",
       "      <td>{'A': 1.0}</td>\n",
       "      <td>0.0000</td>\n",
       "      <td>None</td>\n",
       "      <td>None</td>\n",
       "      <td>{'GGA Static': 'mp-1504767'}</td>\n",
       "      <td>None</td>\n",
       "      <td>Ac</td>\n",
       "      <td># generated using pymatgen\\ndata_Ac\\n_symmetry...</td>\n",
       "      <td>2019-01-11 11:43:44.199000</td>\n",
       "      <td>...</td>\n",
       "      <td>NM</td>\n",
       "      <td>False</td>\n",
       "      <td>166</td>\n",
       "      <td>0</td>\n",
       "      <td>[]</td>\n",
       "      <td>[0, 0, 0]</td>\n",
       "      <td>9.131548e-04</td>\n",
       "      <td>0.041015</td>\n",
       "      <td>0</td>\n",
       "      <td>0.123046</td>\n",
       "    </tr>\n",
       "    <tr>\n",
       "      <th>3</th>\n",
       "      <td>mp-989737</td>\n",
       "      <td>{'A': 1.0}</td>\n",
       "      <td>0.0000</td>\n",
       "      <td>None</td>\n",
       "      <td>None</td>\n",
       "      <td>{'GGA Static': 'mp-1415578'}</td>\n",
       "      <td>None</td>\n",
       "      <td>Ag</td>\n",
       "      <td># generated using pymatgen\\ndata_Ag\\n_symmetry...</td>\n",
       "      <td>2015-12-16 14:33:29</td>\n",
       "      <td>...</td>\n",
       "      <td>NM</td>\n",
       "      <td>False</td>\n",
       "      <td>166</td>\n",
       "      <td>0</td>\n",
       "      <td>[]</td>\n",
       "      <td>[0, 0, 0]</td>\n",
       "      <td>4.692753e-04</td>\n",
       "      <td>0.008471</td>\n",
       "      <td>0</td>\n",
       "      <td>0.025413</td>\n",
       "    </tr>\n",
       "    <tr>\n",
       "      <th>4</th>\n",
       "      <td>mp-8566</td>\n",
       "      <td>{'A': 1.0}</td>\n",
       "      <td>0.0000</td>\n",
       "      <td>None</td>\n",
       "      <td>None</td>\n",
       "      <td>{'GGA NSCF Uniform': 'mp-922443', 'GGA Static'...</td>\n",
       "      <td>None</td>\n",
       "      <td>Ag</td>\n",
       "      <td># generated using pymatgen\\ndata_Ag\\n_symmetry...</td>\n",
       "      <td>2011-05-28 01:39:32</td>\n",
       "      <td>...</td>\n",
       "      <td>NM</td>\n",
       "      <td>False</td>\n",
       "      <td>194</td>\n",
       "      <td>0</td>\n",
       "      <td>[]</td>\n",
       "      <td>[0, 0, 0, 0]</td>\n",
       "      <td>7.053656e-08</td>\n",
       "      <td>0.000001</td>\n",
       "      <td>0</td>\n",
       "      <td>0.000005</td>\n",
       "    </tr>\n",
       "    <tr>\n",
       "      <th>...</th>\n",
       "      <td>...</td>\n",
       "      <td>...</td>\n",
       "      <td>...</td>\n",
       "      <td>...</td>\n",
       "      <td>...</td>\n",
       "      <td>...</td>\n",
       "      <td>...</td>\n",
       "      <td>...</td>\n",
       "      <td>...</td>\n",
       "      <td>...</td>\n",
       "      <td>...</td>\n",
       "      <td>...</td>\n",
       "      <td>...</td>\n",
       "      <td>...</td>\n",
       "      <td>...</td>\n",
       "      <td>...</td>\n",
       "      <td>...</td>\n",
       "      <td>...</td>\n",
       "      <td>...</td>\n",
       "      <td>...</td>\n",
       "      <td>...</td>\n",
       "    </tr>\n",
       "    <tr>\n",
       "      <th>126142</th>\n",
       "      <td>mp-1221189</td>\n",
       "      <td>{'A': 1.0, 'B': 1.0, 'C': 2.0, 'D': 4.0, 'E': ...</td>\n",
       "      <td>0.1545</td>\n",
       "      <td>None</td>\n",
       "      <td>None</td>\n",
       "      <td>{'GGA+U Static': 'mp-1329905'}</td>\n",
       "      <td>None</td>\n",
       "      <td>Ca-F-Mn-Na-O-Si-Ti-Zr</td>\n",
       "      <td># generated using pymatgen\\ndata_Na5Ca7Zr2TiMn...</td>\n",
       "      <td>2019-01-12 21:55:14.467000</td>\n",
       "      <td>...</td>\n",
       "      <td>FM</td>\n",
       "      <td>True</td>\n",
       "      <td>2</td>\n",
       "      <td>1</td>\n",
       "      <td>[Mn]</td>\n",
       "      <td>[0.0, 0.0, 0.0, 0.0, 0.0, 0.0, 0.0, 0.0, 0.0, ...</td>\n",
       "      <td>2.597991e-03</td>\n",
       "      <td>2.020300</td>\n",
       "      <td>1</td>\n",
       "      <td>2.020300</td>\n",
       "    </tr>\n",
       "    <tr>\n",
       "      <th>126143</th>\n",
       "      <td>mp-1224604</td>\n",
       "      <td>{'A': 1.0, 'B': 2.0, 'C': 2.0, 'D': 3.0, 'E': ...</td>\n",
       "      <td>1.7608</td>\n",
       "      <td>None</td>\n",
       "      <td>None</td>\n",
       "      <td>{'GGA+U Static': 'mp-1327892'}</td>\n",
       "      <td>None</td>\n",
       "      <td>Fe-K-Li-Mn-Na-O-Si-Ti</td>\n",
       "      <td># generated using pymatgen\\ndata_K2Na4Li2Ti4Mn...</td>\n",
       "      <td>2019-01-13 00:49:57.412000</td>\n",
       "      <td>...</td>\n",
       "      <td>FM</td>\n",
       "      <td>True</td>\n",
       "      <td>1</td>\n",
       "      <td>4</td>\n",
       "      <td>[Mn, Fe]</td>\n",
       "      <td>[0.0, 0.0, 0.0, 0.0, 0.0, 0.0, 0.0, 0.0, 0.0, ...</td>\n",
       "      <td>1.920918e-02</td>\n",
       "      <td>18.808137</td>\n",
       "      <td>4</td>\n",
       "      <td>18.808137</td>\n",
       "    </tr>\n",
       "    <tr>\n",
       "      <th>126144</th>\n",
       "      <td>mp-1223707</td>\n",
       "      <td>{'A': 1.0, 'B': 1.0, 'C': 1.0, 'D': 1.0, 'E': ...</td>\n",
       "      <td>1.7772</td>\n",
       "      <td>None</td>\n",
       "      <td>None</td>\n",
       "      <td>{'GGA+U Static': 'mp-1331019'}</td>\n",
       "      <td>None</td>\n",
       "      <td>Fe-K-Li-Mn-Na-O-Si-Ti</td>\n",
       "      <td># generated using pymatgen\\ndata_KNa2LiTi2MnFe...</td>\n",
       "      <td>2019-01-13 00:03:54.702000</td>\n",
       "      <td>...</td>\n",
       "      <td>FM</td>\n",
       "      <td>True</td>\n",
       "      <td>9</td>\n",
       "      <td>1</td>\n",
       "      <td>[Mn]</td>\n",
       "      <td>[-0.0, -0.0, -0.0, -0.0, -0.0, -0.0, -0.0, -0....</td>\n",
       "      <td>2.048653e-03</td>\n",
       "      <td>0.994359</td>\n",
       "      <td>2</td>\n",
       "      <td>1.988718</td>\n",
       "    </tr>\n",
       "    <tr>\n",
       "      <th>126145</th>\n",
       "      <td>mp-1213447</td>\n",
       "      <td>{'A': 1.0, 'B': 1.0, 'C': 1.0, 'D': 1.0, 'E': ...</td>\n",
       "      <td>0.0000</td>\n",
       "      <td>None</td>\n",
       "      <td>None</td>\n",
       "      <td>{'GGA+U Static': 'mp-1364881'}</td>\n",
       "      <td>None</td>\n",
       "      <td>Ba-Ca-F-Fe-K-Na-O-Si-Ti</td>\n",
       "      <td># generated using pymatgen\\ndata_KBaNaCaTi4Fe8...</td>\n",
       "      <td>2019-01-12 15:27:42.093000</td>\n",
       "      <td>...</td>\n",
       "      <td>FM</td>\n",
       "      <td>True</td>\n",
       "      <td>10</td>\n",
       "      <td>18</td>\n",
       "      <td>[Fe, O]</td>\n",
       "      <td>[0.0, 0.0, 0.0, 0.0, 0.0, 0.0, 0.0, 0.0, 4.3, ...</td>\n",
       "      <td>4.757869e-02</td>\n",
       "      <td>38.000000</td>\n",
       "      <td>15</td>\n",
       "      <td>38.000000</td>\n",
       "    </tr>\n",
       "    <tr>\n",
       "      <th>126146</th>\n",
       "      <td>mp-1215061</td>\n",
       "      <td>{'A': 1.0, 'B': 1.0, 'C': 1.0, 'D': 1.0, 'E': ...</td>\n",
       "      <td>0.0000</td>\n",
       "      <td>None</td>\n",
       "      <td>None</td>\n",
       "      <td>{'GGA+U Static': 'mp-1366445'}</td>\n",
       "      <td>None</td>\n",
       "      <td>Ba-F-H-Mn-Na-O-Re-Si-Ti</td>\n",
       "      <td># generated using pymatgen\\ndata_Ba2NaTi2MnRe2...</td>\n",
       "      <td>2019-01-12 16:48:04.958000</td>\n",
       "      <td>...</td>\n",
       "      <td>FiM</td>\n",
       "      <td>True</td>\n",
       "      <td>40</td>\n",
       "      <td>2</td>\n",
       "      <td>[Mn, Re]</td>\n",
       "      <td>[-0.0, -0.0, -0.0, -0.0, -0.0, -0.0, -0.0, -0....</td>\n",
       "      <td>3.480827e-03</td>\n",
       "      <td>1.965244</td>\n",
       "      <td>6</td>\n",
       "      <td>3.930487</td>\n",
       "    </tr>\n",
       "  </tbody>\n",
       "</table>\n",
       "<p>126147 rows × 66 columns</p>\n",
       "</div>"
      ],
      "text/plain": [
       "       material_id                                  anonymous_formula  \\\n",
       "0        mp-862690                                         {'A': 1.0}   \n",
       "1       mp-1183057                                         {'A': 1.0}   \n",
       "2       mp-1183069                                         {'A': 1.0}   \n",
       "3        mp-989737                                         {'A': 1.0}   \n",
       "4          mp-8566                                         {'A': 1.0}   \n",
       "...            ...                                                ...   \n",
       "126142  mp-1221189  {'A': 1.0, 'B': 1.0, 'C': 2.0, 'D': 4.0, 'E': ...   \n",
       "126143  mp-1224604  {'A': 1.0, 'B': 2.0, 'C': 2.0, 'D': 3.0, 'E': ...   \n",
       "126144  mp-1223707  {'A': 1.0, 'B': 1.0, 'C': 1.0, 'D': 1.0, 'E': ...   \n",
       "126145  mp-1213447  {'A': 1.0, 'B': 1.0, 'C': 1.0, 'D': 1.0, 'E': ...   \n",
       "126146  mp-1215061  {'A': 1.0, 'B': 1.0, 'C': 1.0, 'D': 1.0, 'E': ...   \n",
       "\n",
       "        band_gap band_structure bandstructure_uniform  \\\n",
       "0         0.0000           None                  None   \n",
       "1         0.0000           None                  None   \n",
       "2         0.0000           None                  None   \n",
       "3         0.0000           None                  None   \n",
       "4         0.0000           None                  None   \n",
       "...          ...            ...                   ...   \n",
       "126142    0.1545           None                  None   \n",
       "126143    1.7608           None                  None   \n",
       "126144    1.7772           None                  None   \n",
       "126145    0.0000           None                  None   \n",
       "126146    0.0000           None                  None   \n",
       "\n",
       "                                            blessed_tasks bond_valence  \\\n",
       "0       {'GGA NSCF Uniform': 'mp-1004086', 'GGA Static...         None   \n",
       "1                            {'GGA Static': 'mp-1404739'}         None   \n",
       "2                            {'GGA Static': 'mp-1504767'}         None   \n",
       "3                            {'GGA Static': 'mp-1415578'}         None   \n",
       "4       {'GGA NSCF Uniform': 'mp-922443', 'GGA Static'...         None   \n",
       "...                                                   ...          ...   \n",
       "126142                     {'GGA+U Static': 'mp-1329905'}         None   \n",
       "126143                     {'GGA+U Static': 'mp-1327892'}         None   \n",
       "126144                     {'GGA+U Static': 'mp-1331019'}         None   \n",
       "126145                     {'GGA+U Static': 'mp-1364881'}         None   \n",
       "126146                     {'GGA+U Static': 'mp-1366445'}         None   \n",
       "\n",
       "                        chemsys  \\\n",
       "0                            Ac   \n",
       "1                            Ac   \n",
       "2                            Ac   \n",
       "3                            Ag   \n",
       "4                            Ag   \n",
       "...                         ...   \n",
       "126142    Ca-F-Mn-Na-O-Si-Ti-Zr   \n",
       "126143    Fe-K-Li-Mn-Na-O-Si-Ti   \n",
       "126144    Fe-K-Li-Mn-Na-O-Si-Ti   \n",
       "126145  Ba-Ca-F-Fe-K-Na-O-Si-Ti   \n",
       "126146  Ba-F-H-Mn-Na-O-Re-Si-Ti   \n",
       "\n",
       "                                                      cif  \\\n",
       "0       # generated using pymatgen\\ndata_Ac\\n_symmetry...   \n",
       "1       # generated using pymatgen\\ndata_Ac\\n_symmetry...   \n",
       "2       # generated using pymatgen\\ndata_Ac\\n_symmetry...   \n",
       "3       # generated using pymatgen\\ndata_Ag\\n_symmetry...   \n",
       "4       # generated using pymatgen\\ndata_Ag\\n_symmetry...   \n",
       "...                                                   ...   \n",
       "126142  # generated using pymatgen\\ndata_Na5Ca7Zr2TiMn...   \n",
       "126143  # generated using pymatgen\\ndata_K2Na4Li2Ti4Mn...   \n",
       "126144  # generated using pymatgen\\ndata_KNa2LiTi2MnFe...   \n",
       "126145  # generated using pymatgen\\ndata_KBaNaCaTi4Fe8...   \n",
       "126146  # generated using pymatgen\\ndata_Ba2NaTi2MnRe2...   \n",
       "\n",
       "                        created_at  ... ordering  is_magnetic  \\\n",
       "0              2014-08-23 01:06:11  ...       NM        False   \n",
       "1       2019-01-11 11:43:11.515000  ...       NM        False   \n",
       "2       2019-01-11 11:43:44.199000  ...       NM        False   \n",
       "3              2015-12-16 14:33:29  ...       NM        False   \n",
       "4              2011-05-28 01:39:32  ...       NM        False   \n",
       "...                            ...  ...      ...          ...   \n",
       "126142  2019-01-12 21:55:14.467000  ...       FM         True   \n",
       "126143  2019-01-13 00:49:57.412000  ...       FM         True   \n",
       "126144  2019-01-13 00:03:54.702000  ...       FM         True   \n",
       "126145  2019-01-12 15:27:42.093000  ...       FM         True   \n",
       "126146  2019-01-12 16:48:04.958000  ...      FiM         True   \n",
       "\n",
       "       exchange_symmetry num_unique_magnetic_sites types_of_magnetic_species  \\\n",
       "0                    194                         0                        []   \n",
       "1                    152                         0                        []   \n",
       "2                    166                         0                        []   \n",
       "3                    166                         0                        []   \n",
       "4                    194                         0                        []   \n",
       "...                  ...                       ...                       ...   \n",
       "126142                 2                         1                      [Mn]   \n",
       "126143                 1                         4                  [Mn, Fe]   \n",
       "126144                 9                         1                      [Mn]   \n",
       "126145                10                        18                   [Fe, O]   \n",
       "126146                40                         2                  [Mn, Re]   \n",
       "\n",
       "                                                  magmoms  \\\n",
       "0                                            [0, 0, 0, 0]   \n",
       "1                                               [0, 0, 0]   \n",
       "2                                               [0, 0, 0]   \n",
       "3                                               [0, 0, 0]   \n",
       "4                                            [0, 0, 0, 0]   \n",
       "...                                                   ...   \n",
       "126142  [0.0, 0.0, 0.0, 0.0, 0.0, 0.0, 0.0, 0.0, 0.0, ...   \n",
       "126143  [0.0, 0.0, 0.0, 0.0, 0.0, 0.0, 0.0, 0.0, 0.0, ...   \n",
       "126144  [-0.0, -0.0, -0.0, -0.0, -0.0, -0.0, -0.0, -0....   \n",
       "126145  [0.0, 0.0, 0.0, 0.0, 0.0, 0.0, 0.0, 0.0, 4.3, ...   \n",
       "126146  [-0.0, -0.0, -0.0, -0.0, -0.0, -0.0, -0.0, -0....   \n",
       "\n",
       "        total_magnetization_normalized_vol  \\\n",
       "0                             1.611105e-04   \n",
       "1                             1.676193e-04   \n",
       "2                             9.131548e-04   \n",
       "3                             4.692753e-04   \n",
       "4                             7.053656e-08   \n",
       "...                                    ...   \n",
       "126142                        2.597991e-03   \n",
       "126143                        1.920918e-02   \n",
       "126144                        2.048653e-03   \n",
       "126145                        4.757869e-02   \n",
       "126146                        3.480827e-03   \n",
       "\n",
       "        total_magnetization_normalized_formula_units num_magnetic_sites  \\\n",
       "0                                           0.007333                  0   \n",
       "1                                           0.007600                  0   \n",
       "2                                           0.041015                  0   \n",
       "3                                           0.008471                  0   \n",
       "4                                           0.000001                  0   \n",
       "...                                              ...                ...   \n",
       "126142                                      2.020300                  1   \n",
       "126143                                     18.808137                  4   \n",
       "126144                                      0.994359                  2   \n",
       "126145                                     38.000000                 15   \n",
       "126146                                      1.965244                  6   \n",
       "\n",
       "       true_total_magnetization  \n",
       "0                      0.029332  \n",
       "1                      0.022801  \n",
       "2                      0.123046  \n",
       "3                      0.025413  \n",
       "4                      0.000005  \n",
       "...                         ...  \n",
       "126142                 2.020300  \n",
       "126143                18.808137  \n",
       "126144                 1.988718  \n",
       "126145                38.000000  \n",
       "126146                 3.930487  \n",
       "\n",
       "[126147 rows x 66 columns]"
      ]
     },
     "execution_count": 2,
     "metadata": {},
     "output_type": "execute_result"
    }
   ],
   "source": [
    "import os\n",
    "import pandas as pd\n",
    "import matplotlib.pyplot as plt \n",
    "\n",
    "MATERIALS_PROJECT_PKL = os.path.join(\"mp\",\"materials_project.pkl\")\n",
    "mpdf = pd.read_pickle(MATERIALS_PROJECT_PKL)\n",
    "mpdf"
   ]
  },
  {
   "cell_type": "markdown",
   "metadata": {},
   "source": [
    "## Available columns\n",
    "\n",
    "Some of the information accessible from the materials project causes errors when downloading. If some of the desired information is not below, you might need to edit the `mp/download.py` script to obtain it."
   ]
  },
  {
   "cell_type": "code",
   "execution_count": 3,
   "metadata": {},
   "outputs": [
    {
     "name": "stdout",
     "output_type": "stream",
     "text": [
      "material_id\n",
      "anonymous_formula\n",
      "band_gap\n",
      "band_structure\n",
      "bandstructure_uniform\n",
      "blessed_tasks\n",
      "bond_valence\n",
      "chemsys\n",
      "cif\n",
      "created_at\n",
      "delta_volume\n",
      "density\n",
      "diel\n",
      "doi\n",
      "doi_bibtex\n",
      "dos\n",
      "e_above_hull\n",
      "efermi\n",
      "elasticity\n",
      "elements\n",
      "encut\n",
      "energy\n",
      "energy_per_atom\n",
      "entry\n",
      "exp\n",
      "final_energy\n",
      "final_energy_per_atom\n",
      "formation_energy_per_atom\n",
      "formula_anonymous\n",
      "full_formula\n",
      "has\n",
      "has_bandstructure\n",
      "icsd_ids\n",
      "is_compatible\n",
      "is_hubbard\n",
      "is_ordered\n",
      "last_updated\n",
      "magnetic_type\n",
      "nelements\n",
      "nkpts\n",
      "nsites\n",
      "ntask_ids\n",
      "original_task_id\n",
      "oxide_type\n",
      "pf_ids\n",
      "pretty_formula\n",
      "pseudo_potential\n",
      "reduced_cell_formula\n",
      "run_type\n",
      "spacegroup\n",
      "task_id\n",
      "task_ids\n",
      "total_magnetization\n",
      "unit_cell_formula\n",
      "volume\n",
      "warnings\n",
      "ordering\n",
      "is_magnetic\n",
      "exchange_symmetry\n",
      "num_unique_magnetic_sites\n",
      "types_of_magnetic_species\n",
      "magmoms\n",
      "total_magnetization_normalized_vol\n",
      "total_magnetization_normalized_formula_units\n",
      "num_magnetic_sites\n",
      "true_total_magnetization\n"
     ]
    }
   ],
   "source": [
    "for column in list(mpdf.columns): \n",
    "    print(column)"
   ]
  },
  {
   "cell_type": "markdown",
   "metadata": {},
   "source": [
    "## Data exploration\n",
    "\n",
    "Below are a few example of how pandas can easily be used to filter the data and get quick insight on what the dataset contains."
   ]
  },
  {
   "cell_type": "markdown",
   "metadata": {},
   "source": [
    "#### Number of entry"
   ]
  },
  {
   "cell_type": "code",
   "execution_count": 4,
   "metadata": {},
   "outputs": [
    {
     "name": "stdout",
     "output_type": "stream",
     "text": [
      "The dataset has 126147 entries\n"
     ]
    }
   ],
   "source": [
    "print(f\"The dataset has {len(mpdf)} entries\")"
   ]
  },
  {
   "cell_type": "markdown",
   "metadata": {},
   "source": [
    "#### Number of stable compounds"
   ]
  },
  {
   "cell_type": "code",
   "execution_count": 5,
   "metadata": {},
   "outputs": [
    {
     "name": "stdout",
     "output_type": "stream",
     "text": [
      "32682 entries are super stable (e_above_hull <= 0)\n",
      "83934 are stable (e_above_hull <= 0.1)\n"
     ]
    }
   ],
   "source": [
    "super_stable = mpdf[mpdf[\"e_above_hull\"] <= 0]\n",
    "\n",
    "stable_treshold = 0.1\n",
    "stable = mpdf.loc[mpdf['e_above_hull'] <= stable_treshold]\n",
    "\n",
    "print(f\"{len(super_stable)} entries are super stable (e_above_hull <= 0)\")\n",
    "print(f\"{len(stable)} are stable (e_above_hull <= 0.1)\")"
   ]
  },
  {
   "cell_type": "markdown",
   "metadata": {},
   "source": [
    "#### Grouping by formula to identify duplicates"
   ]
  },
  {
   "cell_type": "code",
   "execution_count": 6,
   "metadata": {
    "scrolled": true
   },
   "outputs": [
    {
     "name": "stdout",
     "output_type": "stream",
     "text": [
      "89460 unique formulas in total\n",
      "32676/32682 unique formulas are super stable \n",
      "64486/83934 unique formulas are stable\n"
     ]
    }
   ],
   "source": [
    "nb_formula = len(mpdf.groupby('pretty_formula').size())\n",
    "nb_super_stable = len(super_stable.groupby('pretty_formula').size())\n",
    "nb_stable = len(stable.groupby('pretty_formula').size())\n",
    "\n",
    "print(f\"{nb_formula} unique formulas in total\")\n",
    "print(f\"{nb_super_stable}/{len(super_stable)} unique formulas are super stable \")\n",
    "print(f\"{nb_stable}/{len(stable)} unique formulas are stable\")"
   ]
  },
  {
   "cell_type": "markdown",
   "metadata": {},
   "source": [
    "#### Counting duplicates"
   ]
  },
  {
   "cell_type": "code",
   "execution_count": 7,
   "metadata": {
    "scrolled": false
   },
   "outputs": [
    {
     "data": {
      "text/plain": [
       "pretty_formula\n",
       "Cl2    3\n",
       "F2     5\n",
       "dtype: int64"
      ]
     },
     "execution_count": 7,
     "metadata": {},
     "output_type": "execute_result"
    }
   ],
   "source": [
    "super_stable.groupby('pretty_formula').size().loc[lambda s: s>1]"
   ]
  },
  {
   "cell_type": "code",
   "execution_count": 8,
   "metadata": {
    "scrolled": true
   },
   "outputs": [
    {
     "name": "stdout",
     "output_type": "stream",
     "text": [
      "30319\n",
      "24974/30319 unique formulas among those\n",
      "Thus covers 24974 + 64486 = 89460/126147 materials (consistency check)\n"
     ]
    }
   ],
   "source": [
    "unstable_only = mpdf[ ~mpdf['pretty_formula'].isin(stable['pretty_formula']) ]\n",
    "stable_counts = stable.groupby('pretty_formula').size()\n",
    "unstable_counts = unstable_only.groupby('pretty_formula').size()\n",
    "\n",
    "print(f\"{len(unstable_only)}\")\n",
    "print(f\"{len(unstable_counts)}/{len(unstable_only)} unique formulas among those\")\n",
    "print(f\"Thus covers {len(unstable_counts)} + {len(stable_counts)} = {len(unstable_counts)+len(stable_counts)}/{len(mpdf)} materials (consistency check)\")"
   ]
  },
  {
   "cell_type": "markdown",
   "metadata": {},
   "source": [
    "#### Which ones have ICSD ids?"
   ]
  },
  {
   "cell_type": "code",
   "execution_count": 9,
   "metadata": {},
   "outputs": [
    {
     "name": "stdout",
     "output_type": "stream",
     "text": [
      "48485 entries have ICSD ids\n",
      "544 entries have warnings\n",
      "38725 entries have ICSD ids, are stable, and have no warnings\n"
     ]
    }
   ],
   "source": [
    "have_icsd = mpdf[mpdf['icsd_ids'].astype(bool)]\n",
    "warnings = mpdf[mpdf['warnings'].astype(bool)]\n",
    "stable_icsd = mpdf[ \n",
    "    (mpdf['icsd_ids'].astype(bool)) \n",
    "    & (mpdf[\"e_above_hull\"] <= stable_treshold) \n",
    "    & (~mpdf['warnings'].astype(bool))\n",
    "]\n",
    "\n",
    "print(f\"{len(have_icsd)} entries have ICSD ids\")\n",
    "print(f\"{len(warnings)} entries have warnings\")\n",
    "print(f\"{len(stable_icsd)} entries have ICSD ids, are stable, and have no warnings\")"
   ]
  },
  {
   "cell_type": "markdown",
   "metadata": {},
   "source": [
    "#### Example: getting the formation energy per atome of SrTiO3"
   ]
  },
  {
   "cell_type": "code",
   "execution_count": 10,
   "metadata": {},
   "outputs": [
    {
     "name": "stdout",
     "output_type": "stream",
     "text": [
      "\n",
      "There are 4 instances of SrTiO3\n",
      "Their index and formation energy are\n"
     ]
    },
    {
     "data": {
      "text/plain": [
       "73087   -3.560625\n",
       "77199   -3.561507\n",
       "77354   -3.560935\n",
       "78170   -3.522414\n",
       "Name: formation_energy_per_atom, dtype: float64"
      ]
     },
     "execution_count": 10,
     "metadata": {},
     "output_type": "execute_result"
    }
   ],
   "source": [
    "SrTiO3df = mpdf.loc[mpdf[\"pretty_formula\"] == \"SrTiO3\"]\n",
    "print(f\"\\nThere are {len(SrTiO3df)} instances of SrTiO3\")\n",
    "print(f\"Their index and formation energy are\")\n",
    "SrTiO3df['formation_energy_per_atom']"
   ]
  },
  {
   "cell_type": "markdown",
   "metadata": {},
   "source": [
    "#### Accessing the `cif` file of an entry"
   ]
  },
  {
   "cell_type": "code",
   "execution_count": 11,
   "metadata": {},
   "outputs": [
    {
     "name": "stdout",
     "output_type": "stream",
     "text": [
      "nsites of the 5 instances of F2\n",
      "4\n",
      "8\n",
      "4\n",
      "4\n",
      "4\n",
      "_cell_lenght_a of the 5 F2\n",
      "3.09748607\n",
      "4.46210000\n",
      "4.11199286\n",
      "3.20314634\n",
      "3.55698303\n"
     ]
    }
   ],
   "source": [
    "F2df = mpdf.loc[mpdf[\"pretty_formula\"] == \"F2\"]\n",
    "print(\"nsites of the 5 instances of F2\")\n",
    "for nsites in F2df['nsites']:\n",
    "    print(nsites)\n",
    "print(\"_cell_lenght_a of the 5 F2\")\n",
    "for cif in F2df['cif']:\n",
    "    print(cif.split()[cif.split().index('_cell_length_a')+1])"
   ]
  },
  {
   "cell_type": "markdown",
   "metadata": {},
   "source": [
    "#### Plot number of elements vs energy above hull"
   ]
  },
  {
   "cell_type": "code",
   "execution_count": 12,
   "metadata": {},
   "outputs": [
    {
     "data": {
      "image/png": "[encoded data removed]",
      "text/plain": [
       "<Figure size 432x288 with 1 Axes>"
      ]
     },
     "metadata": {
      "needs_background": "light"
     },
     "output_type": "display_data"
    }
   ],
   "source": [
    "mpdf.plot.scatter(x='e_above_hull', y='nelements')\n",
    "plt.show()"
   ]
  },
  {
   "cell_type": "markdown",
   "metadata": {},
   "source": [
    "#### Histogram of the number of materials containing each element"
   ]
  },
  {
   "cell_type": "code",
   "execution_count": 13,
   "metadata": {},
   "outputs": [
    {
     "data": {
      "image/png": "[encoded data removed]",
      "text/plain": [
       "<Figure size 1440x288 with 1 Axes>"
      ]
     },
     "metadata": {
      "needs_background": "light"
     },
     "output_type": "display_data"
    }
   ],
   "source": [
    "list_of_elements = [\n",
    "    'H','He','Li','Be','B','C','N','O','F','Ne','Na','Mg','Al','Si','P','S',\n",
    "    'Cl','Ar','K','Ca','Sc','Ti','V','Cr','Mn','Fe','Co','Ni','Cu','Zn','Ga',\n",
    "    'Ge','As','Se','Br','Kr','Rb','Sr','Y','Zr','Nb','Mo','Tc','Ru','Rh','Pd',\n",
    "    'Ag','Cd','In','Sn','Sb','Te','I','Xe','Cs','Ba','La','Ce','Pr','Nd','Pm',\n",
    "    'Sm','Eu','Gd','Tb','Dy','Ho','Er','Tm','Yb','Lu','Hf','Ta','W','Re','Os',\n",
    "    'Ir','Pt','Au','Hg','Tl','Pb','Bi','Po','At','Rn','Fr','Ra','Ac','Th','Pa',\n",
    "    'U','Np','Pu','Am','Cm','Bk','Cf','Es','Fm','Md','No','Lr'\n",
    "]\n",
    "\n",
    "list_of_counts = [\n",
    "    mpdf.elements[mpdf.elements.apply(lambda lst: element in lst)].count()\n",
    "    for element in list_of_elements\n",
    "]\n",
    "\n",
    "plt.figure(figsize=(20,4))\n",
    "plt.bar(list_of_elements, list_of_counts)\n",
    "plt.xlim([-0.5,len(list_of_elements)-0.5])\n",
    "plt.tight_layout()\n",
    "plt.show()"
   ]
  },
  {
   "cell_type": "markdown",
   "metadata": {},
   "source": [
    "## Magnetism\n",
    "\n",
    "The materials project contains data about the magnetic ordering"
   ]
  },
  {
   "cell_type": "code",
   "execution_count": 14,
   "metadata": {},
   "outputs": [
    {
     "name": "stdout",
     "output_type": "stream",
     "text": [
      "33716 ferromagnets\n",
      "12576 ferrimagnets\n",
      "75860 paramagnets\n",
      "3690 afm\n"
     ]
    }
   ],
   "source": [
    "ferromagnets = mpdf.loc[mpdf[\"ordering\"] == \"FM\"]\n",
    "ferrimagnets = mpdf.loc[mpdf[\"ordering\"] == \"FiM\"]\n",
    "paramagnets = mpdf.loc[mpdf[\"ordering\"] == \"NM\"]\n",
    "afm = mpdf.loc[mpdf[\"ordering\"] == \"AFM\"]\n",
    "print(f\"{len(ferromagnets)} ferromagnets\")\n",
    "print(f\"{len(ferrimagnets)} ferrimagnets\")\n",
    "print(f\"{len(paramagnets)} paramagnets\")\n",
    "print(f\"{len(afm)} afm\")"
   ]
  },
  {
   "cell_type": "markdown",
   "metadata": {},
   "source": [
    "They were computed with and without Hubbard `U`"
   ]
  },
  {
   "cell_type": "code",
   "execution_count": 15,
   "metadata": {},
   "outputs": [
    {
     "name": "stdout",
     "output_type": "stream",
     "text": [
      "19005 stable materials were computed with Hubbard U\n",
      "64929 stable materials were computed without U\n",
      "49982 materials are magnetic\n",
      "27103 stable materials are magnetic\n",
      "15587 magnetic materials were computed with Hubbard U\n",
      "11516 magnetic materials were computed with Hubbard U\n"
     ]
    }
   ],
   "source": [
    "hubbard_stable     = mpdf.loc[\n",
    "    (mpdf[\"is_hubbard\"]==True) \n",
    "    & (mpdf[\"e_above_hull\"] <= stable_treshold)\n",
    "]\n",
    "\n",
    "not_hubbard_stable = mpdf.loc[\n",
    "    (mpdf[\"is_hubbard\"]==False)\n",
    "    & (mpdf[\"e_above_hull\"] <= stable_treshold)\n",
    "]\n",
    "\n",
    "magnetic = mpdf.loc[\n",
    "    (mpdf[\"ordering\"] == \"FM\") | (mpdf[\"ordering\"] == \"FiM\") | (mpdf[\"ordering\"] == \"AFM\")\n",
    "]\n",
    "\n",
    "mag_stable = magnetic.loc[\n",
    "    mpdf[\"e_above_hull\"] <= stable_treshold\n",
    "]\n",
    "\n",
    "mag_hubbard_stable = magnetic.loc[\n",
    "    (mpdf[\"is_hubbard\"]==True) \n",
    "    & (mpdf[\"e_above_hull\"] <= stable_treshold)]\n",
    "\n",
    "mag_not_hubbard_stable = magnetic.loc[\n",
    "    (mpdf[\"is_hubbard\"]==False) \n",
    "    & (mpdf[\"e_above_hull\"] <= stable_treshold)\n",
    "]\n",
    "\n",
    "print(f\"{len(hubbard_stable)} stable materials were computed with Hubbard U\")\n",
    "print(f\"{len(not_hubbard_stable)} stable materials were computed without U\") \n",
    "print(f\"{len(magnetic)} materials are magnetic\") \n",
    "print(f\"{len(mag_stable)} stable materials are magnetic\") \n",
    "print(f\"{len(mag_hubbard_stable)} magnetic materials were computed with Hubbard U\") \n",
    "print(f\"{len(mag_not_hubbard_stable)} magnetic materials were computed with Hubbard U\") "
   ]
  },
  {
   "cell_type": "markdown",
   "metadata": {},
   "source": [
    "This determines the number of stable magnetic materials, and if they were computed with Hubbard `U`"
   ]
  },
  {
   "cell_type": "code",
   "execution_count": 16,
   "metadata": {},
   "outputs": [
    {
     "name": "stdout",
     "output_type": "stream",
     "text": [
      "18754 stable ferromagnets, 9392 computed with hubbard U\n",
      "5296 stable ferrimagnets, 3309 computed with hubbard U\n",
      "56580 stable paramagnets, 3235 computed with hubbard U\n",
      "3053 stable antiferromagnets, 2886 computed with hubbard U\n"
     ]
    }
   ],
   "source": [
    "stable_treshold = 0.1\n",
    "stable_ferromagnets = mpdf.loc[\n",
    "    (mpdf[\"ordering\"] == \"FM\")\n",
    "    & (mpdf[\"e_above_hull\"] <= stable_treshold)\n",
    "]\n",
    "\n",
    "stable_ferrimagnets = mpdf.loc[\n",
    "    (mpdf[\"ordering\"] == \"FiM\")\n",
    "    & (mpdf[\"e_above_hull\"] <= stable_treshold)\n",
    "]\n",
    "\n",
    "stable_paramagnets = mpdf.loc[\n",
    "    (mpdf[\"ordering\"] == \"NM\")\n",
    "    & (mpdf[\"e_above_hull\"] <= stable_treshold)\n",
    "]\n",
    "\n",
    "stable_afm = mpdf.loc[\n",
    "    (mpdf[\"ordering\"] == \"AFM\")\n",
    "    & (mpdf[\"e_above_hull\"] <= stable_treshold)\n",
    "]\n",
    "\n",
    "hubbard_stable_ferromagnets = mpdf.loc[\n",
    "    mpdf[\"is_hubbard\"]\n",
    "    & (mpdf[\"ordering\"] == \"FM\")\n",
    "    & (mpdf[\"e_above_hull\"] <= stable_treshold)\n",
    "]\n",
    "\n",
    "hubbard_stable_ferrimagnets = mpdf.loc[\n",
    "    mpdf[\"is_hubbard\"]\n",
    "    & (mpdf[\"ordering\"] == \"FiM\")\n",
    "    & (mpdf[\"e_above_hull\"] <= stable_treshold)\n",
    "]\n",
    "\n",
    "hubbard_stable_paramagnets = mpdf.loc[\n",
    "    mpdf[\"is_hubbard\"]\n",
    "    & (mpdf[\"ordering\"] == \"NM\")\n",
    "    & (mpdf[\"e_above_hull\"] <= stable_treshold)\n",
    "]\n",
    "\n",
    "hubbard_stable_afm = mpdf.loc[\n",
    "    mpdf[\"is_hubbard\"] \n",
    "    & (mpdf[\"ordering\"] == \"AFM\")\n",
    "    & (mpdf[\"e_above_hull\"] <= stable_treshold)\n",
    "]\n",
    "\n",
    "print(f\"{len(stable_ferromagnets)} stable ferromagnets, {len(hubbard_stable_ferromagnets)} computed with hubbard U\")\n",
    "print(f\"{len(stable_ferrimagnets)} stable ferrimagnets, {len(hubbard_stable_ferrimagnets)} computed with hubbard U\")\n",
    "print(f\"{len(stable_paramagnets)} stable paramagnets, {len(hubbard_stable_paramagnets)} computed with hubbard U\")\n",
    "print(f\"{len(stable_afm)} stable antiferromagnets, {len(hubbard_stable_afm)} computed with hubbard U\")"
   ]
  },
  {
   "cell_type": "markdown",
   "metadata": {},
   "source": [
    "#### Example of the `magmoms` data"
   ]
  },
  {
   "cell_type": "code",
   "execution_count": 17,
   "metadata": {},
   "outputs": [
    {
     "name": "stdout",
     "output_type": "stream",
     "text": [
      "formula: MgTi4MnZnNiO12\n",
      "ordering: AFM\n",
      "magmom: [0.0, 0.0, 0.0, 0.0, 0.0, 0.0, 0.0, 0.0, 0.0, 0.0, -4.6, 4.6, 0.0, 0.0, -1.8, 1.8, 0.0, 0.0, 0.0, 0.0, 0.0, 0.0, 0.0, 0.0, 0.0, 0.0, 0.0, 0.0, 0.0, 0.0, 0.0, 0.0, 0.0, 0.0, 0.0, 0.0, 0.0, 0.0, 0.0, 0.0]\n"
     ]
    }
   ],
   "source": [
    "ii = 125959\n",
    "print(\"formula:\", mpdf['pretty_formula'].iloc[ii])\n",
    "print(\"ordering:\", mpdf['ordering'].iloc[ii])\n",
    "print(\"magmom:\", mpdf['magmoms'].iloc[ii])"
   ]
  },
  {
   "cell_type": "markdown",
   "metadata": {},
   "source": [
    "#### Number of materials per elements, with the fraction which is magnetic"
   ]
  },
  {
   "cell_type": "code",
   "execution_count": 18,
   "metadata": {},
   "outputs": [
    {
     "data": {
      "image/png": "[encoded data removed]",
      "text/plain": [
       "<Figure size 1440x288 with 1 Axes>"
      ]
     },
     "metadata": {
      "needs_background": "light"
     },
     "output_type": "display_data"
    }
   ],
   "source": [
    "list_of_elements = [\n",
    "    'H','He','Li','Be','B','C','N','O','F','Ne','Na','Mg','Al','Si','P','S',\n",
    "    'Cl','Ar','K','Ca','Sc','Ti','V','Cr','Mn','Fe','Co','Ni','Cu','Zn','Ga',\n",
    "    'Ge','As','Se','Br','Kr','Rb','Sr','Y','Zr','Nb','Mo','Tc','Ru','Rh','Pd',\n",
    "    'Ag','Cd','In','Sn','Sb','Te','I','Xe','Cs','Ba','La','Ce','Pr','Nd','Pm',\n",
    "    'Sm','Eu','Gd','Tb','Dy','Ho','Er','Tm','Yb','Lu','Hf','Ta','W','Re','Os',\n",
    "    'Ir','Pt','Au','Hg','Tl','Pb','Bi','Po','At','Rn','Fr','Ra','Ac','Th','Pa',\n",
    "    'U','Np','Pu','Am','Cm','Bk','Cf','Es','Fm','Md','No','Lr'\n",
    "]\n",
    "\n",
    "list_of_counts = [\n",
    "    mpdf.elements[mpdf.elements.apply(lambda lst: element in lst)].count()\n",
    "    for element in list_of_elements\n",
    "]\n",
    "\n",
    "list_of_counts_mag = [\n",
    "    magnetic.elements[mpdf.elements.apply(lambda lst: element in lst)].count()\n",
    "    for element in list_of_elements\n",
    "]\n",
    "\n",
    "plt.figure(figsize=(20,4))\n",
    "plt.bar(list_of_elements, list_of_counts)\n",
    "plt.bar(list_of_elements, list_of_counts_mag)\n",
    "plt.xlim([-0.5,len(list_of_elements)-0.5])\n",
    "plt.tight_layout()\n",
    "plt.show()"
   ]
  },
  {
   "cell_type": "markdown",
   "metadata": {},
   "source": [
    "#### Number of materials vs energy per atoms"
   ]
  },
  {
   "cell_type": "code",
   "execution_count": 19,
   "metadata": {},
   "outputs": [
    {
     "data": {
      "image/png": "[encoded data removed]",
      "text/plain": [
       "<Figure size 432x288 with 1 Axes>"
      ]
     },
     "metadata": {
      "needs_background": "light"
     },
     "output_type": "display_data"
    }
   ],
   "source": [
    "bins = 200\n",
    "prop = 'formation_energy_per_atom'\n",
    "plt.suptitle(prop)\n",
    "plt.hist(mpdf[prop], bins=2*bins, fc=(0, 0, 0, 0.2), label='all')\n",
    "plt.hist(mag_stable[prop], bins=bins, fc=(1, 0, 0, 0.6), label='magnetic stable')\n",
    "plt.hist(mag_not_hubbard_stable[prop], bins=bins, fc=(0, 1, 0, 0.6), label='mag stable without U')\n",
    "plt.hist(mag_hubbard_stable[prop], bins=bins, fc=(0, 0.8, 1, 0.6), label='mag stable with U')\n",
    "plt.legend()\n",
    "plt.show()"
   ]
  },
  {
   "cell_type": "code",
   "execution_count": null,
   "metadata": {},
   "outputs": [],
   "source": []
  }
 ],
 "metadata": {
  "kernelspec": {
   "display_name": "Python 3.7.7 64-bit ('env': venv)",
   "language": "python",
   "name": "python37764bitenvvenva9132766598542fb917bfb905a246a9d"
  },
  "language_info": {
   "codemirror_mode": {
    "name": "ipython",
    "version": 3
   },
   "file_extension": ".py",
   "mimetype": "text/x-python",
   "name": "python",
   "nbconvert_exporter": "python",
   "pygments_lexer": "ipython3",
   "version": "3.7.7"
  }
 },
 "nbformat": 4,
 "nbformat_minor": 4
}
